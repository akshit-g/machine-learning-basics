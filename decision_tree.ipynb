{
 "cells": [
  {
   "cell_type": "code",
   "execution_count": null,
   "metadata": {},
   "outputs": [],
   "source": [
    "from sklearn import datasets\n",
    "from sklearn.tree import DecisionTreeClassifier\n",
    "x, y = datasets.load_breast_cancer(return_x_y = True)\n",
    "DT = DecisionTreeClassifier()\n",
    "DT_model = DT.fit(x, y)"
   ]
  },
  {
   "cell_type": "code",
   "execution_count": null,
   "metadata": {},
   "outputs": [],
   "source": [
    "from sklearn import model_selection\n",
    "x_tr, x_ts, y_tr, y_ts = model_selection.train_test_split(x, y, test_size=0.20, random_state=30)\n",
    "DT_model = DT.fit(x_tr, y_tr)\n",
    "DT_pred = DT_model.predict(x_ts)\n",
    "\n",
    "from sklearn import metrics\n",
    "print(\"Accuracy:\", metrics.accuracy_score(DT_pred, y_ts))\n",
    "print(metrics.confusion_matrix(DT_pred, y_ts))\n",
    "print(metrics.classification_report(DT_pred, y_ts))\n",
    "print(\"ROC AUC:\", metrics.roc_auc_score(DT_pred, y_ts))"
   ]
  }
 ],
 "metadata": {
  "kernelspec": {
   "display_name": "Python 3.10.1 64-bit",
   "language": "python",
   "name": "python3"
  },
  "language_info": {
   "codemirror_mode": {
    "name": "ipython",
    "version": 3
   },
   "file_extension": ".py",
   "mimetype": "text/x-python",
   "name": "python",
   "nbconvert_exporter": "python",
   "pygments_lexer": "ipython3",
   "version": "3.10.1"
  },
  "orig_nbformat": 4,
  "vscode": {
   "interpreter": {
    "hash": "a8d0b99760ce0cd8abb92070f34fc7e94ce9b802ba9e7fb363af83bb4d5ed8cf"
   }
  }
 },
 "nbformat": 4,
 "nbformat_minor": 2
}
