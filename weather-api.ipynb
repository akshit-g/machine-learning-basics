{
 "cells": [
  {
   "cell_type": "code",
   "execution_count": null,
   "metadata": {},
   "outputs": [],
   "source": [
    "import requests\n",
    "import pprint\n",
    "api_key = \"339356088c77e54e90b6f292f16f06f7\"\n",
    "City_name = input(\"Enter city name: \")\n",
    "country_code = \"IN\"\n",
    "base_url = \"https://api.openweathermap.org/data/2.5/weather?\"\n",
    "complete_url = base_url + \"appid=\" + api_key + \"&q=\" + City_name + \",\" + country_code\n",
    "response = requests.get(complete_url)\n",
    "weather_data = response.json()\n",
    "pprint.pprint(weather_data)"
   ]
  }
 ],
 "metadata": {
  "kernelspec": {
   "display_name": "Python 3",
   "language": "python",
   "name": "python3"
  },
  "language_info": {
   "name": "python",
   "version": "3.11.3"
  },
  "orig_nbformat": 4
 },
 "nbformat": 4,
 "nbformat_minor": 2
}
